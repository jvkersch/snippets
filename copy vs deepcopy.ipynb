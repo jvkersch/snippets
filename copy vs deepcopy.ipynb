{
 "cells": [
  {
   "cell_type": "markdown",
   "metadata": {},
   "source": [
    "The difference between `copy` and `deepcopy` is relevant for \"compound\" object, that is, objects that hold references to other objects (e.g. a list that contains a dictionary). I tried to explain this in class but didn't get very far... Here is a better (simpler) example."
   ]
  },
  {
   "cell_type": "code",
   "execution_count": 1,
   "metadata": {
    "collapsed": true
   },
   "outputs": [],
   "source": [
    "my_dict = {}  # An empty dictionary\n",
    "my_list = [my_dict]  # A 1-item list, containing the dictionary that we've just created."
   ]
  },
  {
   "cell_type": "code",
   "execution_count": 3,
   "metadata": {
    "collapsed": false
   },
   "outputs": [
    {
     "name": "stdout",
     "output_type": "stream",
     "text": [
      "[{}]\n"
     ]
    }
   ],
   "source": [
    "# Now, let's copy the list\n",
    "import copy\n",
    "\n",
    "my_new_list = copy.copy(my_list)\n",
    "print my_new_list"
   ]
  },
  {
   "cell_type": "code",
   "execution_count": 4,
   "metadata": {
    "collapsed": false
   },
   "outputs": [
    {
     "name": "stdout",
     "output_type": "stream",
     "text": [
      "[{'foo': 'bar'}]\n"
     ]
    }
   ],
   "source": [
    "# my_new_list is again a 1-item list with a dictionary as its sole item. Let's put something in that dictionary\n",
    "my_new_list[0]['foo'] = 'bar'\n",
    "print my_new_list"
   ]
  },
  {
   "cell_type": "code",
   "execution_count": 5,
   "metadata": {
    "collapsed": false
   },
   "outputs": [
    {
     "name": "stdout",
     "output_type": "stream",
     "text": [
      "[{'foo': 'bar'}]\n"
     ]
    }
   ],
   "source": [
    "# Now, let's inspect the original list. Surprise: it has also changed!\n",
    "print my_list"
   ]
  },
  {
   "cell_type": "code",
   "execution_count": 6,
   "metadata": {
    "collapsed": false
   },
   "outputs": [
    {
     "name": "stdout",
     "output_type": "stream",
     "text": [
      "Original: [{}]\n",
      "Copy: [{'foo': 'bar'}]\n"
     ]
    }
   ],
   "source": [
    "# The reason why the items in the original list have also changed is that copy.copy returns a new list,\n",
    "# but with references tot the original items (i.e. the items of the list don't get copied). If you want to \n",
    "# avoid this, use copy.deepcopy.\n",
    "\n",
    "my_dict = {}\n",
    "my_list = [my_dict]\n",
    "\n",
    "my_other_list = copy.deepcopy(my_list)\n",
    "\n",
    "# Modify it again:\n",
    "my_other_list[0]['foo'] = 'bar'\n",
    "\n",
    "# and print out the list and its copy\n",
    "print 'Original:', my_list\n",
    "print 'Copy:', my_other_list"
   ]
  },
  {
   "cell_type": "code",
   "execution_count": null,
   "metadata": {
    "collapsed": true
   },
   "outputs": [],
   "source": []
  }
 ],
 "metadata": {
  "kernelspec": {
   "display_name": "Python 2",
   "language": "python",
   "name": "python2"
  },
  "language_info": {
   "codemirror_mode": {
    "name": "ipython",
    "version": 2
   },
   "file_extension": ".py",
   "mimetype": "text/x-python",
   "name": "python",
   "nbconvert_exporter": "python",
   "pygments_lexer": "ipython2",
   "version": "2.7.11"
  }
 },
 "nbformat": 4,
 "nbformat_minor": 0
}
